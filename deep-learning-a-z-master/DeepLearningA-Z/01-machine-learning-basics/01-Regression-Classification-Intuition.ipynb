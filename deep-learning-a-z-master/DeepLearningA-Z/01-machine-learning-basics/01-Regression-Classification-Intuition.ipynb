{
 "cells": [
  {
   "cell_type": "markdown",
   "metadata": {},
   "source": [
    "# Regression & Classification Intuition"
   ]
  },
  {
   "cell_type": "markdown",
   "metadata": {},
   "source": [
    "Credit: [Deep Learning A-Z™: Hands-On Artificial Neural Networks](https://www.udemy.com/deeplearning/learn/v4/content)"
   ]
  },
  {
   "cell_type": "markdown",
   "metadata": {
    "collapsed": true
   },
   "source": [
    "## Simple Linear Regression Intuition"
   ]
  },
  {
   "cell_type": "markdown",
   "metadata": {},
   "source": [
    "<img src=\"./images/Screen Shot 2017-06-17 at 12.55.46 PM.png\">\n",
    "\n",
    "- y: Dependent variable (DV), a variable you are trying to explain.\n",
    "- x: Independent variable (IV), assume that it cause the dependent variable to change, or imply an association\n",
    "- $b_1$: Coefficient, how a unit change in x affects a unit change in y.\n",
    "- $b_0$: constant term"
   ]
  },
  {
   "cell_type": "markdown",
   "metadata": {},
   "source": [
    "Simple Linear Regression is basically trying to draw a line that best fit the data.\n",
    "\n",
    "An example below: Salary based on years of experience\n",
    "\n",
    "<img src=\"./images/Screen Shot 2017-06-17 at 1.03.14 PM.png\">\n",
    "\n",
    "- $b_0$ : intercept (constant), which means as soon as somebody graduate, that person has a starting salary of 30k.\n",
    "- $b_1$ : slope of the line, the steeper the line, the more money you get for extra years of experience."
   ]
  },
  {
   "cell_type": "markdown",
   "metadata": {},
   "source": [
    "The best fit line is the line which has the minimum sum of squared errors (ordinary least squared).\n",
    "- errors is calculated by taking the sum of difference between predicted value and actual value.\n",
    "\n",
    "<img src=\"./images/Screen Shot 2017-06-17 at 1.07.56 PM.png\">"
   ]
  },
  {
   "cell_type": "markdown",
   "metadata": {},
   "source": [
    "## Multiple Linear Regression Intuition"
   ]
  },
  {
   "cell_type": "markdown",
   "metadata": {},
   "source": [
    "<img src=\"./images/Screen Shot 2017-06-17 at 1.09.27 PM.png\">\n",
    "\n",
    "Similar to Simple Linear Regression but with multiple independent variables."
   ]
  },
  {
   "cell_type": "markdown",
   "metadata": {},
   "source": [
    "## Logistic Regression Intuition"
   ]
  },
  {
   "cell_type": "markdown",
   "metadata": {},
   "source": [
    "When we have a use case where our dependent variable is an boolean action (Y/N), applying linear regression is not a good approach. Instead of predicting exactly if the person will do the action or not, we predict the probability or likelihood of that person will take that action.\n",
    "\n",
    "<img src=\"./images/Screen Shot 2017-06-17 at 1.25.11 PM.png\">\n",
    "\n",
    "The probability is from 0 to 1. In this graph, we can see clearly the middle part between the 2 straight line of 0 and 1. That part has an increasing probability as it moves to the right, or the age is increasing. Which means the older they are, the higher the probability this person will likely to take an action.\n",
    "\n",
    "Mathematically speaking, if we apply the sigmoid function on top of the linear regression, we will get the logistic regression. Similar to linear regression, logistic regression will find the best fitting line that can fit the dataset.\n",
    "\n",
    "<img src=\"./images/Screen Shot 2017-06-17 at 1.28.19 PM.png\">\n"
   ]
  },
  {
   "cell_type": "markdown",
   "metadata": {},
   "source": [
    "Logistic regression is used to predict the probability $\\hat p$. Let's do an example:\n",
    "\n",
    "<img src=\"./images/Screen Shot 2017-06-17 at 1.37.59 PM.png\">\n",
    "\n",
    "- We have 4 independent variables (age): 20, 30, 40, 50.\n",
    "- How can we find the probability?\n",
    "    - First, we project those 4 values onto the curve. Those are called the fitted values.\n",
    "    - Then we project those values onto the y-axis to find the probability between 0 and 1.\n",
    "    \n",
    "How to get predicted value from probability?\n",
    "- We put a threshold, for example 0.5\n",
    "- If the predicted values < threshold, we project the values downward onto the zero-line. $\\hat y = 0$\n",
    "- If the predicted values >= threshold, we project the values upward onto the one-line. $\\hat y = 1$\n",
    "\n",
    "<img src=\"./images/Screen Shot 2017-06-17 at 1.41.59 PM.png\">\n",
    "\n",
    "Depends on your use case, you can choose your own threshold."
   ]
  }
 ],
 "metadata": {
  "kernelspec": {
   "display_name": "Python 3",
   "language": "python",
   "name": "python3"
  },
  "language_info": {
   "codemirror_mode": {
    "name": "ipython",
    "version": 3
   },
   "file_extension": ".py",
   "mimetype": "text/x-python",
   "name": "python",
   "nbconvert_exporter": "python",
   "pygments_lexer": "ipython3",
   "version": "3.5.3"
  },
  "toc": {
   "colors": {
    "hover_highlight": "#DAA520",
    "navigate_num": "#000000",
    "navigate_text": "#333333",
    "running_highlight": "#FF0000",
    "selected_highlight": "#FFD700",
    "sidebar_border": "#EEEEEE",
    "wrapper_background": "#FFFFFF"
   },
   "moveMenuLeft": true,
   "nav_menu": {
    "height": "30px",
    "width": "252px"
   },
   "navigate_menu": true,
   "number_sections": false,
   "sideBar": true,
   "threshold": 4,
   "toc_cell": false,
   "toc_section_display": "block",
   "toc_window_display": true,
   "widenNotebook": false
  }
 },
 "nbformat": 4,
 "nbformat_minor": 2
}
